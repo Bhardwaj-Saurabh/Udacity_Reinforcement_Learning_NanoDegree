{
 "cells": [
  {
   "cell_type": "markdown",
   "metadata": {},
   "source": [
    "# Collaboration and Competition\n",
    "\n",
    "---\n",
    "\n",
    "You are welcome to use this coding environment to train your agent for the project.  Follow the instructions below to get started!\n",
    "\n",
    "### 1. Start the Environment\n",
    "\n",
    "Run the next code cell to install a few packages.  This line will take a few minutes to run!"
   ]
  },
  {
   "cell_type": "code",
   "execution_count": 1,
   "metadata": {},
   "outputs": [
    {
     "name": "stdout",
     "output_type": "stream",
     "text": [
      "\u001b[31mtensorflow 1.7.1 has requirement numpy>=1.13.3, but you'll have numpy 1.12.1 which is incompatible.\u001b[0m\r\n",
      "\u001b[31mipython 6.5.0 has requirement prompt-toolkit<2.0.0,>=1.0.15, but you'll have prompt-toolkit 3.0.29 which is incompatible.\u001b[0m\r\n",
      "\u001b[31mjupyter-console 6.4.3 has requirement jupyter-client>=7.0.0, but you'll have jupyter-client 5.2.4 which is incompatible.\u001b[0m\r\n"
     ]
    }
   ],
   "source": [
    "!pip -q install ./python"
   ]
  },
  {
   "cell_type": "markdown",
   "metadata": {},
   "source": [
    "The environment is already saved in the Workspace and can be accessed at the file path provided below. "
   ]
  },
  {
   "cell_type": "code",
   "execution_count": 26,
   "metadata": {},
   "outputs": [
    {
     "name": "stderr",
     "output_type": "stream",
     "text": [
      "INFO:unityagents:\n",
      "'Academy' started successfully!\n",
      "Unity Academy name: Academy\n",
      "        Number of Brains: 1\n",
      "        Number of External Brains : 1\n",
      "        Lesson number : 0\n",
      "        Reset Parameters :\n",
      "\t\t\n",
      "Unity brain name: TennisBrain\n",
      "        Number of Visual Observations (per agent): 0\n",
      "        Vector Observation space type: continuous\n",
      "        Vector Observation space size (per agent): 8\n",
      "        Number of stacked Vector Observation: 3\n",
      "        Vector Action space type: continuous\n",
      "        Vector Action space size (per agent): 2\n",
      "        Vector Action descriptions: , \n"
     ]
    }
   ],
   "source": [
    "from unityagents import UnityEnvironment\n",
    "import numpy as np\n",
    "\n",
    "env = UnityEnvironment(file_name=\"/data/Tennis_Linux_NoVis/Tennis\")"
   ]
  },
  {
   "cell_type": "markdown",
   "metadata": {},
   "source": [
    "Environments contain **_brains_** which are responsible for deciding the actions of their associated agents. Here we check for the first brain available, and set it as the default brain we will be controlling from Python."
   ]
  },
  {
   "cell_type": "code",
   "execution_count": 27,
   "metadata": {},
   "outputs": [],
   "source": [
    "# get the default brain\n",
    "brain_name = env.brain_names[0]\n",
    "brain = env.brains[brain_name]"
   ]
  },
  {
   "cell_type": "markdown",
   "metadata": {},
   "source": [
    "### 2. Examine the State and Action Spaces\n",
    "\n",
    "Run the code cell below to print some information about the environment."
   ]
  },
  {
   "cell_type": "code",
   "execution_count": 28,
   "metadata": {},
   "outputs": [
    {
     "name": "stdout",
     "output_type": "stream",
     "text": [
      "Number of agents: 2\n",
      "Size of each action: 2\n",
      "There are 2 agents. Each observes a state with length: 24\n",
      "The state for the first agent looks like: [ 0.          0.          0.          0.          0.          0.          0.\n",
      "  0.          0.          0.          0.          0.          0.          0.\n",
      "  0.          0.         -6.65278625 -1.5        -0.          0.\n",
      "  6.83172083  6.         -0.          0.        ]\n"
     ]
    }
   ],
   "source": [
    "# reset the environment\n",
    "env_info = env.reset(train_mode=True)[brain_name]\n",
    "\n",
    "# number of agents \n",
    "num_agents = len(env_info.agents)\n",
    "print('Number of agents:', num_agents)\n",
    "\n",
    "# size of each action\n",
    "action_size = brain.vector_action_space_size\n",
    "print('Size of each action:', action_size)\n",
    "\n",
    "# examine the state space \n",
    "states = env_info.vector_observations\n",
    "state_size = states.shape[1]\n",
    "print('There are {} agents. Each observes a state with length: {}'.format(states.shape[0], state_size))\n",
    "print('The state for the first agent looks like:', states[0])"
   ]
  },
  {
   "cell_type": "markdown",
   "metadata": {},
   "source": [
    "### 3. Take Random Actions in the Environment\n",
    "\n",
    "In the next code cell, you will learn how to use the Python API to control the agent and receive feedback from the environment.\n",
    "\n",
    "Note that **in this coding environment, you will not be able to watch the agents while they are training**, and you should set `train_mode=True` to restart the environment."
   ]
  },
  {
   "cell_type": "code",
   "execution_count": 29,
   "metadata": {},
   "outputs": [],
   "source": [
    "# for i in range(5):                                         # play game for 5 episodes\n",
    "#     env_info = env.reset(train_mode=False)[brain_name]     # reset the environment    \n",
    "#     states = env_info.vector_observations                  # get the current state (for each agent)\n",
    "#     scores = np.zeros(num_agents)                          # initialize the score (for each agent)\n",
    "#     while True:\n",
    "#         actions = np.random.randn(num_agents, action_size) # select an action (for each agent)\n",
    "#         actions = np.clip(actions, -1, 1)                  # all actions between -1 and 1\n",
    "#         env_info = env.step(actions)[brain_name]           # send all actions to tne environment\n",
    "#         next_states = env_info.vector_observations         # get next state (for each agent)\n",
    "#         rewards = env_info.rewards                         # get reward (for each agent)\n",
    "#         dones = env_info.local_done                        # see if episode finished\n",
    "#         scores += env_info.rewards                         # update the score (for each agent)\n",
    "#         states = next_states                               # roll over states to next time step\n",
    "#         if np.any(dones):                                  # exit loop if episode finished\n",
    "#             break\n",
    "#     print('Total score (averaged over agents) this episode: {}'.format(np.mean(scores)))"
   ]
  },
  {
   "cell_type": "markdown",
   "metadata": {},
   "source": [
    "When finished, you can close the environment."
   ]
  },
  {
   "cell_type": "code",
   "execution_count": 30,
   "metadata": {},
   "outputs": [],
   "source": [
    "# env.close()"
   ]
  },
  {
   "cell_type": "markdown",
   "metadata": {},
   "source": [
    "### 4. It's Your Turn!\n",
    "\n",
    "Now it's your turn to train your own agent to solve the environment!  A few **important notes**:\n",
    "- When training the environment, set `train_mode=True`, so that the line for resetting the environment looks like the following:\n",
    "```python\n",
    "env_info = env.reset(train_mode=True)[brain_name]\n",
    "```\n",
    "- To structure your work, you're welcome to work directly in this Jupyter notebook, or you might like to start over with a new file!  You can see the list of files in the workspace by clicking on **_Jupyter_** in the top left corner of the notebook.\n",
    "- In this coding environment, you will not be able to watch the agents while they are training.  However, **_after training the agents_**, you can download the saved model weights to watch the agents on your own machine! "
   ]
  },
  {
   "cell_type": "code",
   "execution_count": 31,
   "metadata": {},
   "outputs": [],
   "source": [
    "# Import necessary libraries\n",
    "import random\n",
    "import copy\n",
    "from collections import namedtuple, deque\n",
    "import matplotlib.pyplot as plt\n",
    "%matplotlib inline\n",
    "\n",
    "import torch\n",
    "import torch.nn as nn\n",
    "import torch.nn.functional as F\n",
    "import torch.optim as optim\n",
    "\n",
    "# import Agents\n",
    "from ddpg_agent import Agents"
   ]
  },
  {
   "cell_type": "code",
   "execution_count": 32,
   "metadata": {},
   "outputs": [],
   "source": [
    "agents = Agents(state_size=state_size, action_size=action_size, num_agents=len(env_info.agents), random_seed=5)"
   ]
  },
  {
   "cell_type": "code",
   "execution_count": 33,
   "metadata": {},
   "outputs": [
    {
     "name": "stdout",
     "output_type": "stream",
     "text": [
      "Episode 10... Average Score: 0.01\n",
      "Episode 20... Average Score: 0.01\n",
      "Episode 30... Average Score: 0.00\n",
      "Episode 40... Average Score: 0.00\n",
      "Episode 50... Average Score: 0.00\n",
      "Episode 60... Average Score: 0.00\n",
      "Episode 70... Average Score: 0.00\n",
      "Episode 80... Average Score: 0.00\n",
      "Episode 90... Average Score: 0.00\n",
      "Episode 100... Average Score: 0.00\n",
      "Episode 110... Average Score: 0.00\n",
      "Episode 120... Average Score: 0.00\n",
      "Episode 130... Average Score: 0.00\n",
      "Episode 140... Average Score: 0.00\n",
      "Episode 150... Average Score: 0.00\n",
      "Episode 160... Average Score: 0.00\n",
      "Episode 170... Average Score: 0.00\n",
      "Episode 180... Average Score: 0.00\n",
      "Episode 190... Average Score: 0.01\n",
      "Episode 200... Average Score: 0.01\n",
      "Episode 210... Average Score: 0.01\n",
      "Episode 220... Average Score: 0.01\n",
      "Episode 230... Average Score: 0.01\n",
      "Episode 240... Average Score: 0.01\n",
      "Episode 250... Average Score: 0.01\n",
      "Episode 260... Average Score: 0.01\n",
      "Episode 270... Average Score: 0.01\n",
      "Episode 280... Average Score: 0.02\n",
      "Episode 290... Average Score: 0.01\n",
      "Episode 300... Average Score: 0.01\n",
      "Episode 310... Average Score: 0.01\n",
      "Episode 320... Average Score: 0.01\n",
      "Episode 330... Average Score: 0.02\n",
      "Episode 340... Average Score: 0.02\n",
      "Episode 350... Average Score: 0.02\n",
      "Episode 360... Average Score: 0.02\n",
      "Episode 370... Average Score: 0.02\n",
      "Episode 380... Average Score: 0.02\n",
      "Episode 390... Average Score: 0.02\n",
      "Episode 400... Average Score: 0.02\n",
      "Episode 410... Average Score: 0.02\n",
      "Episode 420... Average Score: 0.02\n",
      "Episode 430... Average Score: 0.01\n",
      "Episode 440... Average Score: 0.01\n",
      "Episode 450... Average Score: 0.02\n",
      "Episode 460... Average Score: 0.02\n",
      "Episode 470... Average Score: 0.02\n",
      "Episode 480... Average Score: 0.02\n",
      "Episode 490... Average Score: 0.02\n",
      "Episode 500... Average Score: 0.02\n",
      "Episode 510... Average Score: 0.03\n",
      "Episode 520... Average Score: 0.03\n",
      "Episode 530... Average Score: 0.03\n",
      "Episode 540... Average Score: 0.03\n",
      "Episode 550... Average Score: 0.03\n",
      "Episode 560... Average Score: 0.03\n",
      "Episode 570... Average Score: 0.02\n",
      "Episode 580... Average Score: 0.02\n",
      "Episode 590... Average Score: 0.02\n",
      "Episode 600... Average Score: 0.02\n",
      "Episode 610... Average Score: 0.02\n",
      "Episode 620... Average Score: 0.02\n",
      "Episode 630... Average Score: 0.02\n",
      "Episode 640... Average Score: 0.02\n",
      "Episode 650... Average Score: 0.02\n",
      "Episode 660... Average Score: 0.03\n",
      "Episode 670... Average Score: 0.03\n",
      "Episode 680... Average Score: 0.04\n",
      "Episode 690... Average Score: 0.05\n",
      "Episode 700... Average Score: 0.05\n",
      "Episode 710... Average Score: 0.05\n",
      "Episode 720... Average Score: 0.05\n",
      "Episode 730... Average Score: 0.05\n",
      "Episode 740... Average Score: 0.05\n",
      "Episode 750... Average Score: 0.05\n",
      "Episode 760... Average Score: 0.05\n",
      "Episode 770... Average Score: 0.04\n",
      "Episode 780... Average Score: 0.04\n",
      "Episode 790... Average Score: 0.04\n",
      "Episode 800... Average Score: 0.05\n",
      "Episode 810... Average Score: 0.05\n",
      "Episode 820... Average Score: 0.05\n",
      "Episode 830... Average Score: 0.05\n",
      "Episode 840... Average Score: 0.05\n",
      "Episode 850... Average Score: 0.06\n",
      "Episode 860... Average Score: 0.06\n",
      "Episode 870... Average Score: 0.06\n",
      "Episode 880... Average Score: 0.05\n",
      "Episode 890... Average Score: 0.05\n",
      "Episode 900... Average Score: 0.04\n",
      "Episode 910... Average Score: 0.04\n",
      "Episode 920... Average Score: 0.04\n",
      "Episode 930... Average Score: 0.05\n",
      "Episode 940... Average Score: 0.07\n",
      "Episode 950... Average Score: 0.08\n",
      "Episode 960... Average Score: 0.12\n",
      "Episode 970... Average Score: 0.13\n",
      "Episode 980... Average Score: 0.15\n",
      "Episode 990... Average Score: 0.16\n",
      "Episode 1000... Average Score: 0.18\n",
      "Episode 1010... Average Score: 0.20\n",
      "Episode 1020... Average Score: 0.21\n",
      "Episode 1030... Average Score: 0.22\n",
      "Episode 1040... Average Score: 0.21\n",
      "Episode 1050... Average Score: 0.21\n",
      "Episode 1060... Average Score: 0.18\n",
      "Episode 1070... Average Score: 0.18\n",
      "Episode 1080... Average Score: 0.18\n",
      "Episode 1090... Average Score: 0.19\n",
      "Episode 1100... Average Score: 0.20\n",
      "Episode 1110... Average Score: 0.23\n",
      "Episode 1120... Average Score: 0.25\n",
      "Episode 1130... Average Score: 0.26\n",
      "Episode 1140... Average Score: 0.27\n",
      "Episode 1150... Average Score: 0.29\n",
      "Episode 1160... Average Score: 0.31\n",
      "Episode 1170... Average Score: 0.34\n",
      "Episode 1180... Average Score: 0.35\n",
      "Episode 1190... Average Score: 0.36\n",
      "Episode 1200... Average Score: 0.37\n",
      "Episode 1210... Average Score: 0.40\n",
      "Episode 1220... Average Score: 0.38\n",
      "Episode 1230... Average Score: 0.39\n",
      "Episode 1240... Average Score: 0.42\n",
      "Episode 1250... Average Score: 0.42\n",
      "Episode 1260... Average Score: 0.46\n",
      "Episode 1270... Average Score: 0.45\n",
      "Episode 1280... Average Score: 0.48\n",
      "Episode 1290... Average Score: 0.50\n",
      "\n",
      "Environment solved in 1190 episodes... Average Score: 0.50\n"
     ]
    }
   ],
   "source": [
    "def maddpg(n_episodes=2000, max_t=1000, print_every=10):\n",
    "    scores_deque = deque(maxlen=100)\n",
    "    scores = []\n",
    "    mean_avg_score = []\n",
    "    \n",
    "    for i_episode in range(1, n_episodes+1):\n",
    "#         print(i_episode)\n",
    "        env_info = env.reset(train_mode=True)[brain_name] # Reset the environment\n",
    "        agents.reset()                          # Reset agent noise\n",
    "        states = env_info.vector_observations   # Get the current initial state for all agents\n",
    "        score = np.zeros(num_agents)            # Initialize the score\n",
    "        \n",
    "        for t in range(max_t):\n",
    "            actions = agents.act(states) \n",
    "            env_info = env.step(actions)[brain_name]    # Send the action to the environment\n",
    "            next_states = env_info.vector_observations  # get the next states\n",
    "            rewards = env_info.rewards                  # get the rewards\n",
    "            dones = env_info.local_done                 # check if the episode has finished for any agent\n",
    "\n",
    "            agents.step(states, actions, rewards, next_states, dones)\n",
    "            \n",
    "            states = next_states                        # Set next state as current state\n",
    "            score += rewards                            # collect rewards into score\n",
    "            if np.any(dones):\n",
    "                break\n",
    "                \n",
    "        scores_deque.append(np.max(score))\n",
    "        scores.append(np.max(score))\n",
    "        mean_avg_score.append(np.mean(scores_deque))\n",
    "        \n",
    "        if i_episode % print_every == 0:\n",
    "            print('\\rEpisode {}... Average Score: {:.2f}'.format(i_episode, np.mean(scores_deque)))\n",
    "            \n",
    "        if np.mean(scores_deque) >= 0.5:\n",
    "            print('\\nEnvironment solved in {:d} episodes... Average Score: {:.2f}'.format(i_episode - 100, np.mean(scores_deque)))\n",
    "            torch.save(agents.actor_local.state_dict(), 'checkpoint_actor.pth')\n",
    "            torch.save(agents.critic_local.state_dict(), 'checkpoint_critic.pth')\n",
    "            break\n",
    "            \n",
    "    return scores, mean_avg_score\n",
    "\n",
    "scores, mean_avg_score = maddpg()"
   ]
  },
  {
   "cell_type": "code",
   "execution_count": 34,
   "metadata": {},
   "outputs": [],
   "source": [
    "# Save the actor and critic model parameters\n",
    "torch.save(agents.actor_local.state_dict(), 'checkpoint_actor.pth')\n",
    "torch.save(agents.critic_local.state_dict(), 'checkpoint_critic.pth')"
   ]
  },
  {
   "cell_type": "code",
   "execution_count": 35,
   "metadata": {},
   "outputs": [
    {
     "data": {
      "image/png": "[encoded data removed]",
      "text/plain": [
       "<matplotlib.figure.Figure at 0x7f68f1933cf8>"
      ]
     },
     "metadata": {
      "needs_background": "light"
     },
     "output_type": "display_data"
    }
   ],
   "source": [
    "# Plot the scores\n",
    "fig = plt.figure(figsize=(8, 8))\n",
    "ax = fig.add_subplot(111)\n",
    "plt.plot(np.arange(1, len(scores)+1), scores, label='score')\n",
    "plt.plot(np.arange(1, len(mean_avg_score)+1), mean_avg_score, label='avg score')\n",
    "plt.title('Reward vs. Episode')\n",
    "plt.ylabel('Reward')\n",
    "plt.xlabel('Episode')\n",
    "plt.grid(True)      \n",
    "plt.show()"
   ]
  },
  {
   "cell_type": "code",
   "execution_count": null,
   "metadata": {},
   "outputs": [],
   "source": [
    "env.close()"
   ]
  }
 ],
 "metadata": {
  "kernelspec": {
   "display_name": "Python 3",
   "language": "python",
   "name": "python3"
  },
  "language_info": {
   "codemirror_mode": {
    "name": "ipython",
    "version": 3
   },
   "file_extension": ".py",
   "mimetype": "text/x-python",
   "name": "python",
   "nbconvert_exporter": "python",
   "pygments_lexer": "ipython3",
   "version": "3.6.3"
  }
 },
 "nbformat": 4,
 "nbformat_minor": 2
}
